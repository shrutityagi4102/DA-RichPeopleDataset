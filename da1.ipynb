{
 "cells": [
  {
   "cell_type": "markdown",
   "metadata": {},
   "source": [
    "IMPORTING LIBRARIES"
   ]
  },
  {
   "cell_type": "code",
   "execution_count": 7,
   "metadata": {},
   "outputs": [],
   "source": [
    "import numpy as np \n",
    "import pandas as pd "
   ]
  },
  {
   "cell_type": "markdown",
   "metadata": {},
   "source": [
    "USING THE DATASET TO GET INFORMATION"
   ]
  },
  {
   "cell_type": "code",
   "execution_count": 8,
   "metadata": {},
   "outputs": [
    {
     "name": "stdout",
     "output_type": "stream",
     "text": [
      "<class 'pandas.core.frame.DataFrame'>\n",
      "RangeIndex: 101 entries, 0 to 100\n",
      "Data columns (total 6 columns):\n",
      " #   Column             Non-Null Count  Dtype \n",
      "---  ------             --------------  ----- \n",
      " 0   Name               101 non-null    object\n",
      " 1   NetWorth           101 non-null    object\n",
      " 2   Age                101 non-null    int64 \n",
      " 3   Country/Territory  101 non-null    object\n",
      " 4   Source             101 non-null    object\n",
      " 5   Industry           101 non-null    object\n",
      "dtypes: int64(1), object(5)\n",
      "memory usage: 4.9+ KB\n"
     ]
    }
   ],
   "source": [
    "data = pd.read_csv(\"dataset.csv\")\n",
    "data.info()"
   ]
  },
  {
   "cell_type": "code",
   "execution_count": 9,
   "metadata": {},
   "outputs": [
    {
     "name": "stdout",
     "output_type": "stream",
     "text": [
      "Shape:  (101, 6)\n",
      "Number of rows:  101\n",
      "Number of columns:  6\n"
     ]
    }
   ],
   "source": [
    "d = np.array(data)\n",
    "print(\"Shape: \",d.shape)\n",
    "print(\"Number of rows: \",d.shape[0])\n",
    "print(\"Number of columns: \",d.shape[1])"
   ]
  },
  {
   "cell_type": "code",
   "execution_count": 13,
   "metadata": {},
   "outputs": [
    {
     "data": {
      "text/html": [
       "<div>\n",
       "<style scoped>\n",
       "    .dataframe tbody tr th:only-of-type {\n",
       "        vertical-align: middle;\n",
       "    }\n",
       "\n",
       "    .dataframe tbody tr th {\n",
       "        vertical-align: top;\n",
       "    }\n",
       "\n",
       "    .dataframe thead th {\n",
       "        text-align: right;\n",
       "    }\n",
       "</style>\n",
       "<table border=\"1\" class=\"dataframe\">\n",
       "  <thead>\n",
       "    <tr style=\"text-align: right;\">\n",
       "      <th></th>\n",
       "      <th>Name</th>\n",
       "      <th>NetWorth</th>\n",
       "      <th>Age</th>\n",
       "      <th>Country/Territory</th>\n",
       "      <th>Source</th>\n",
       "      <th>Industry</th>\n",
       "    </tr>\n",
       "  </thead>\n",
       "  <tbody>\n",
       "    <tr>\n",
       "      <th>0</th>\n",
       "      <td>Elon Musk</td>\n",
       "      <td>$219,000,000,000</td>\n",
       "      <td>50</td>\n",
       "      <td>United States</td>\n",
       "      <td>Tesla, SpaceX</td>\n",
       "      <td>Automotive</td>\n",
       "    </tr>\n",
       "    <tr>\n",
       "      <th>1</th>\n",
       "      <td>Jeff Bezos</td>\n",
       "      <td>$171,000,000,000</td>\n",
       "      <td>58</td>\n",
       "      <td>United States</td>\n",
       "      <td>Amazon</td>\n",
       "      <td>Technology</td>\n",
       "    </tr>\n",
       "    <tr>\n",
       "      <th>2</th>\n",
       "      <td>Bernard Arnault &amp; family</td>\n",
       "      <td>$158,000,000,000</td>\n",
       "      <td>73</td>\n",
       "      <td>France</td>\n",
       "      <td>LVMH</td>\n",
       "      <td>Fashion &amp; Retail</td>\n",
       "    </tr>\n",
       "    <tr>\n",
       "      <th>3</th>\n",
       "      <td>Bill Gates</td>\n",
       "      <td>$129,000,000,000</td>\n",
       "      <td>66</td>\n",
       "      <td>United States</td>\n",
       "      <td>Microsoft</td>\n",
       "      <td>Technology</td>\n",
       "    </tr>\n",
       "    <tr>\n",
       "      <th>4</th>\n",
       "      <td>Warren Buffett</td>\n",
       "      <td>$118,000,000,000</td>\n",
       "      <td>91</td>\n",
       "      <td>United States</td>\n",
       "      <td>Berkshire Hathaway</td>\n",
       "      <td>Finance &amp; Investments</td>\n",
       "    </tr>\n",
       "  </tbody>\n",
       "</table>\n",
       "</div>"
      ],
      "text/plain": [
       "                       Name          NetWorth  Age Country/Territory  \\\n",
       "0                 Elon Musk  $219,000,000,000   50     United States   \n",
       "1                Jeff Bezos  $171,000,000,000   58     United States   \n",
       "2  Bernard Arnault & family  $158,000,000,000   73            France   \n",
       "3                Bill Gates  $129,000,000,000   66     United States   \n",
       "4            Warren Buffett  $118,000,000,000   91     United States   \n",
       "\n",
       "               Source               Industry  \n",
       "0       Tesla, SpaceX             Automotive  \n",
       "1              Amazon             Technology  \n",
       "2                LVMH       Fashion & Retail  \n",
       "3           Microsoft             Technology  \n",
       "4  Berkshire Hathaway  Finance & Investments  "
      ]
     },
     "execution_count": 13,
     "metadata": {},
     "output_type": "execute_result"
    }
   ],
   "source": [
    "data.head()"
   ]
  },
  {
   "cell_type": "markdown",
   "metadata": {},
   "source": [
    "DESCRIBING THE NAME AND NETWORTH COLUMNS"
   ]
  },
  {
   "cell_type": "code",
   "execution_count": 17,
   "metadata": {},
   "outputs": [
    {
     "name": "stdout",
     "output_type": "stream",
     "text": [
      "count           101\n",
      "unique          101\n",
      "top       Li Xiting\n",
      "freq              1\n",
      "Name: Name, dtype: object\n",
      "------------------------------\n",
      "count                 101\n",
      "unique                 87\n",
      "top       $24,300,000,000\n",
      "freq                    3\n",
      "Name: NetWorth, dtype: object\n"
     ]
    }
   ],
   "source": [
    "print(data['Name'].describe())\n",
    "print(\"------------------------------\")\n",
    "print(data['NetWorth'].describe())"
   ]
  },
  {
   "cell_type": "markdown",
   "metadata": {},
   "source": [
    "ANALYZING THE RICHEST PEOPLE"
   ]
  },
  {
   "cell_type": "code",
   "execution_count": 20,
   "metadata": {},
   "outputs": [
    {
     "name": "stdout",
     "output_type": "stream",
     "text": [
      "TOP 5 RICHEST PEOPLE\n",
      "                       Name          NetWorth  Age\n",
      "0                 Elon Musk  $219,000,000,000   50\n",
      "1                Jeff Bezos  $171,000,000,000   58\n",
      "2  Bernard Arnault & family  $158,000,000,000   73\n",
      "3                Bill Gates  $129,000,000,000   66\n",
      "4            Warren Buffett  $118,000,000,000   91\n",
      "Youngest Person: \n",
      "                  Name         NetWorth  Age\n",
      "59  Sam Bankman-Fried  $24,000,000,000   30\n",
      "Oldest Person: \n",
      "             Name         NetWorth  Age\n",
      "38  Lee Shau Kee  $32,600,000,000   94\n"
     ]
    }
   ],
   "source": [
    "print(\"TOP 5 RICHEST PEOPLE\")\n",
    "print(data.iloc[0:5,0:3])\n",
    "print(\"Youngest Person: \\n\",data[data['Age']==data['Age'].min()].iloc[:,0:3])\n",
    "print(\"Oldest Person: \\n\",data[data['Age']==data['Age'].max()].iloc[:,0:3])"
   ]
  },
  {
   "cell_type": "markdown",
   "metadata": {},
   "source": [
    "CALCULATING MEAN AND MODE"
   ]
  },
  {
   "cell_type": "code",
   "execution_count": 21,
   "metadata": {},
   "outputs": [
    {
     "name": "stdout",
     "output_type": "stream",
     "text": [
      "Mean:  67.11881188118812\n",
      "Mode:  67.0\n"
     ]
    }
   ],
   "source": [
    "print(\"Mean: \",data['Age'].mean())\n",
    "print(\"Mode: \",data['Age'].median())"
   ]
  },
  {
   "cell_type": "markdown",
   "metadata": {},
   "source": [
    "DUPLICATES"
   ]
  },
  {
   "cell_type": "code",
   "execution_count": 22,
   "metadata": {},
   "outputs": [
    {
     "data": {
      "text/html": [
       "<div>\n",
       "<style scoped>\n",
       "    .dataframe tbody tr th:only-of-type {\n",
       "        vertical-align: middle;\n",
       "    }\n",
       "\n",
       "    .dataframe tbody tr th {\n",
       "        vertical-align: top;\n",
       "    }\n",
       "\n",
       "    .dataframe thead th {\n",
       "        text-align: right;\n",
       "    }\n",
       "</style>\n",
       "<table border=\"1\" class=\"dataframe\">\n",
       "  <thead>\n",
       "    <tr style=\"text-align: right;\">\n",
       "      <th></th>\n",
       "      <th>Name</th>\n",
       "      <th>NetWorth</th>\n",
       "      <th>Age</th>\n",
       "      <th>Country/Territory</th>\n",
       "      <th>Source</th>\n",
       "      <th>Industry</th>\n",
       "    </tr>\n",
       "  </thead>\n",
       "  <tbody>\n",
       "    <tr>\n",
       "      <th>0</th>\n",
       "      <td>Elon Musk</td>\n",
       "      <td>$219,000,000,000</td>\n",
       "      <td>50</td>\n",
       "      <td>United States</td>\n",
       "      <td>Tesla, SpaceX</td>\n",
       "      <td>Automotive</td>\n",
       "    </tr>\n",
       "    <tr>\n",
       "      <th>1</th>\n",
       "      <td>Jeff Bezos</td>\n",
       "      <td>$171,000,000,000</td>\n",
       "      <td>58</td>\n",
       "      <td>United States</td>\n",
       "      <td>Amazon</td>\n",
       "      <td>Technology</td>\n",
       "    </tr>\n",
       "    <tr>\n",
       "      <th>2</th>\n",
       "      <td>Bernard Arnault &amp; family</td>\n",
       "      <td>$158,000,000,000</td>\n",
       "      <td>73</td>\n",
       "      <td>France</td>\n",
       "      <td>LVMH</td>\n",
       "      <td>Fashion &amp; Retail</td>\n",
       "    </tr>\n",
       "    <tr>\n",
       "      <th>3</th>\n",
       "      <td>Bill Gates</td>\n",
       "      <td>$129,000,000,000</td>\n",
       "      <td>66</td>\n",
       "      <td>United States</td>\n",
       "      <td>Microsoft</td>\n",
       "      <td>Technology</td>\n",
       "    </tr>\n",
       "    <tr>\n",
       "      <th>4</th>\n",
       "      <td>Warren Buffett</td>\n",
       "      <td>$118,000,000,000</td>\n",
       "      <td>91</td>\n",
       "      <td>United States</td>\n",
       "      <td>Berkshire Hathaway</td>\n",
       "      <td>Finance &amp; Investments</td>\n",
       "    </tr>\n",
       "    <tr>\n",
       "      <th>...</th>\n",
       "      <td>...</td>\n",
       "      <td>...</td>\n",
       "      <td>...</td>\n",
       "      <td>...</td>\n",
       "      <td>...</td>\n",
       "      <td>...</td>\n",
       "    </tr>\n",
       "    <tr>\n",
       "      <th>96</th>\n",
       "      <td>Vladimir Potanin</td>\n",
       "      <td>$17,300,000,000</td>\n",
       "      <td>61</td>\n",
       "      <td>Russia</td>\n",
       "      <td>metals</td>\n",
       "      <td>Metals &amp; Mining</td>\n",
       "    </tr>\n",
       "    <tr>\n",
       "      <th>97</th>\n",
       "      <td>Harold Hamm &amp; family</td>\n",
       "      <td>$17,200,000,000</td>\n",
       "      <td>76</td>\n",
       "      <td>United States</td>\n",
       "      <td>oil &amp; gas</td>\n",
       "      <td>Energy</td>\n",
       "    </tr>\n",
       "    <tr>\n",
       "      <th>98</th>\n",
       "      <td>Sun Piaoyang</td>\n",
       "      <td>$17,100,000,000</td>\n",
       "      <td>63</td>\n",
       "      <td>China</td>\n",
       "      <td>pharmaceuticals</td>\n",
       "      <td>Healthcare</td>\n",
       "    </tr>\n",
       "    <tr>\n",
       "      <th>99</th>\n",
       "      <td>Luo Liguo &amp; family</td>\n",
       "      <td>$17,000,000,000</td>\n",
       "      <td>66</td>\n",
       "      <td>China</td>\n",
       "      <td>chemicals</td>\n",
       "      <td>Manufacturing</td>\n",
       "    </tr>\n",
       "    <tr>\n",
       "      <th>100</th>\n",
       "      <td>Peter Woo</td>\n",
       "      <td>$17,000,000,000</td>\n",
       "      <td>75</td>\n",
       "      <td>Hong Kong</td>\n",
       "      <td>real estate</td>\n",
       "      <td>Real Estate</td>\n",
       "    </tr>\n",
       "  </tbody>\n",
       "</table>\n",
       "<p>101 rows × 6 columns</p>\n",
       "</div>"
      ],
      "text/plain": [
       "                         Name          NetWorth  Age Country/Territory  \\\n",
       "0                   Elon Musk  $219,000,000,000   50     United States   \n",
       "1                  Jeff Bezos  $171,000,000,000   58     United States   \n",
       "2    Bernard Arnault & family  $158,000,000,000   73            France   \n",
       "3                  Bill Gates  $129,000,000,000   66     United States   \n",
       "4              Warren Buffett  $118,000,000,000   91     United States   \n",
       "..                        ...               ...  ...               ...   \n",
       "96           Vladimir Potanin   $17,300,000,000   61            Russia   \n",
       "97       Harold Hamm & family   $17,200,000,000   76     United States   \n",
       "98               Sun Piaoyang   $17,100,000,000   63             China   \n",
       "99         Luo Liguo & family   $17,000,000,000   66             China   \n",
       "100                 Peter Woo   $17,000,000,000   75         Hong Kong   \n",
       "\n",
       "                 Source               Industry  \n",
       "0         Tesla, SpaceX             Automotive  \n",
       "1                Amazon             Technology  \n",
       "2                  LVMH       Fashion & Retail  \n",
       "3             Microsoft             Technology  \n",
       "4    Berkshire Hathaway  Finance & Investments  \n",
       "..                  ...                    ...  \n",
       "96               metals        Metals & Mining  \n",
       "97            oil & gas                 Energy  \n",
       "98      pharmaceuticals             Healthcare  \n",
       "99            chemicals          Manufacturing  \n",
       "100         real estate            Real Estate  \n",
       "\n",
       "[101 rows x 6 columns]"
      ]
     },
     "execution_count": 22,
     "metadata": {},
     "output_type": "execute_result"
    }
   ],
   "source": [
    "data.drop_duplicates() #there are no duplicates"
   ]
  },
  {
   "cell_type": "markdown",
   "metadata": {},
   "source": [
    "MISSING VALUES"
   ]
  },
  {
   "cell_type": "code",
   "execution_count": 23,
   "metadata": {},
   "outputs": [
    {
     "name": "stdout",
     "output_type": "stream",
     "text": [
      "0 rows have missing values in the data\n",
      "Row-wise analysis: \n"
     ]
    },
    {
     "data": {
      "text/plain": [
       "Name                 0\n",
       "NetWorth             0\n",
       "Age                  0\n",
       "Country/Territory    0\n",
       "Source               0\n",
       "Industry             0\n",
       "dtype: int64"
      ]
     },
     "execution_count": 23,
     "metadata": {},
     "output_type": "execute_result"
    }
   ],
   "source": [
    "n = data.shape[0] - data.dropna().shape[0]\n",
    "print (\"%d rows have missing values in the data\" %n)\n",
    "print(\"Row-wise analysis: \")\n",
    "data.isnull().sum()"
   ]
  },
  {
   "cell_type": "markdown",
   "metadata": {},
   "source": [
    "REPLACING VALUES"
   ]
  },
  {
   "cell_type": "code",
   "execution_count": 25,
   "metadata": {},
   "outputs": [
    {
     "name": "stdout",
     "output_type": "stream",
     "text": [
      "                         Name          NetWorth  Age Country/Territory  \\\n",
      "0                   Elon Musk  $219,000,000,000   50               USA   \n",
      "1                  Jeff Bezos  $171,000,000,000   58               USA   \n",
      "2    Bernard Arnault & family  $158,000,000,000   73            France   \n",
      "3                  Bill Gates  $129,000,000,000   66               USA   \n",
      "4              Warren Buffett  $118,000,000,000   91               USA   \n",
      "..                        ...               ...  ...               ...   \n",
      "96           Vladimir Potanin   $17,300,000,000   61            Russia   \n",
      "97       Harold Hamm & family   $17,200,000,000   76               USA   \n",
      "98               Sun Piaoyang   $17,100,000,000   63             China   \n",
      "99         Luo Liguo & family   $17,000,000,000   66             China   \n",
      "100                 Peter Woo   $17,000,000,000   75         Hong Kong   \n",
      "\n",
      "                 Source               Industry  \n",
      "0         Tesla, SpaceX             Automotive  \n",
      "1                Amazon             Technology  \n",
      "2                  LVMH       Fashion & Retail  \n",
      "3             Microsoft             Technology  \n",
      "4    Berkshire Hathaway  Finance & Investments  \n",
      "..                  ...                    ...  \n",
      "96               metals        Metals & Mining  \n",
      "97            oil & gas                 Energy  \n",
      "98      pharmaceuticals             Healthcare  \n",
      "99            chemicals          Manufacturing  \n",
      "100         real estate            Real Estate  \n",
      "\n",
      "[101 rows x 6 columns]\n"
     ]
    }
   ],
   "source": [
    "data[\"Country/Territory\"].replace(\"United States\", \"USA\",inplace=True)\n",
    "print(data)"
   ]
  },
  {
   "cell_type": "markdown",
   "metadata": {},
   "source": [
    "COLUMN RENAMING"
   ]
  },
  {
   "cell_type": "code",
   "execution_count": 26,
   "metadata": {},
   "outputs": [
    {
     "name": "stdout",
     "output_type": "stream",
     "text": [
      "                         Name          NetWorth  Age    Country  \\\n",
      "0                   Elon Musk  $219,000,000,000   50        USA   \n",
      "1                  Jeff Bezos  $171,000,000,000   58        USA   \n",
      "2    Bernard Arnault & family  $158,000,000,000   73     France   \n",
      "3                  Bill Gates  $129,000,000,000   66        USA   \n",
      "4              Warren Buffett  $118,000,000,000   91        USA   \n",
      "..                        ...               ...  ...        ...   \n",
      "96           Vladimir Potanin   $17,300,000,000   61     Russia   \n",
      "97       Harold Hamm & family   $17,200,000,000   76        USA   \n",
      "98               Sun Piaoyang   $17,100,000,000   63      China   \n",
      "99         Luo Liguo & family   $17,000,000,000   66      China   \n",
      "100                 Peter Woo   $17,000,000,000   75  Hong Kong   \n",
      "\n",
      "               Business               Industry  \n",
      "0         Tesla, SpaceX             Automotive  \n",
      "1                Amazon             Technology  \n",
      "2                  LVMH       Fashion & Retail  \n",
      "3             Microsoft             Technology  \n",
      "4    Berkshire Hathaway  Finance & Investments  \n",
      "..                  ...                    ...  \n",
      "96               metals        Metals & Mining  \n",
      "97            oil & gas                 Energy  \n",
      "98      pharmaceuticals             Healthcare  \n",
      "99            chemicals          Manufacturing  \n",
      "100         real estate            Real Estate  \n",
      "\n",
      "[101 rows x 6 columns]\n"
     ]
    }
   ],
   "source": [
    "data.rename(columns = {'Country/Territory':'Country', 'Source':'Business'}, inplace = True)\n",
    "print(data)"
   ]
  },
  {
   "cell_type": "markdown",
   "metadata": {},
   "source": [
    "AGE WISE CLASSIFICATION"
   ]
  },
  {
   "cell_type": "code",
   "execution_count": 27,
   "metadata": {},
   "outputs": [
    {
     "data": {
      "text/plain": [
       "Senior       65\n",
       "MiddleAge    35\n",
       "Young         1\n",
       "Name: Age, dtype: int64"
      ]
     },
     "execution_count": 27,
     "metadata": {},
     "output_type": "execute_result"
    }
   ],
   "source": [
    "bins = [25, 35, 60, 100]\n",
    "bin_names = ['Young', 'MiddleAge', 'Senior']\n",
    "cuts = pd.cut(data['Age'], bins,labels=bin_names)\n",
    "pd.value_counts(cuts)"
   ]
  }
 ],
 "metadata": {
  "kernelspec": {
   "display_name": "Python 3.7.0 64-bit",
   "language": "python",
   "name": "python3"
  },
  "language_info": {
   "codemirror_mode": {
    "name": "ipython",
    "version": 3
   },
   "file_extension": ".py",
   "mimetype": "text/x-python",
   "name": "python",
   "nbconvert_exporter": "python",
   "pygments_lexer": "ipython3",
   "version": "3.7.0"
  },
  "orig_nbformat": 4,
  "vscode": {
   "interpreter": {
    "hash": "7cb2245972dbe225adf4755a8e98c2f9cc043b71117d90e85d32e8326117b322"
   }
  }
 },
 "nbformat": 4,
 "nbformat_minor": 2
}
